{
 "cells": [
  {
   "cell_type": "markdown",
   "id": "531d5bd1",
   "metadata": {},
   "source": [
    "# <center> Convolutional Neural Networks\n",
    "***\n",
    "\n",
    "### A Tutorial by\n",
    "Rakesh Kalivela    \n",
    "Rajesh Kathiresan    \n",
    "Liu Yueyang\n"
   ]
  },
  {
   "cell_type": "markdown",
   "id": "161a67ea",
   "metadata": {},
   "source": [
    "# <center> Introduction"
   ]
  },
  {
   "cell_type": "markdown",
   "id": "25da5adf",
   "metadata": {},
   "source": [
    "# <center> Theory"
   ]
  },
  {
   "cell_type": "code",
   "execution_count": null,
   "id": "b3c03587",
   "metadata": {},
   "outputs": [],
   "source": []
  },
  {
   "cell_type": "markdown",
   "id": "ca0e29d7",
   "metadata": {},
   "source": [
    "# <center> Example"
   ]
  }
 ],
 "metadata": {
  "celltoolbar": "Slideshow",
  "kernelspec": {
   "display_name": "Python 3 (ipykernel)",
   "language": "python",
   "name": "python3"
  },
  "language_info": {
   "codemirror_mode": {
    "name": "ipython",
    "version": 3
   },
   "file_extension": ".py",
   "mimetype": "text/x-python",
   "name": "python",
   "nbconvert_exporter": "python",
   "pygments_lexer": "ipython3",
   "version": "3.11.5"
  }
 },
 "nbformat": 4,
 "nbformat_minor": 5
}
