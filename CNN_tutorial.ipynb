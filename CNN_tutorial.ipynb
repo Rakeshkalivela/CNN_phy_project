{
 "cells": [
  {
   "cell_type": "markdown",
   "id": "531d5bd1",
   "metadata": {
    "slideshow": {
     "slide_type": "slide"
    }
   },
   "source": [
    "# <center> Convolutional Neural Networks (CNN)\n",
    "***\n",
    "<div style=\"background-color: DodgerBlue; padding: 20px;\">\n",
    "    <div style=\"display:flex; justify-content: flex-end;\">\n",
    "        <div style=\"flex:1;\">\n",
    "            <h3>A Tutorial by</h3>\n",
    "            <p>Rakesh Kalivela</p>\n",
    "            <p>Rajesh Kathiresan</p>\n",
    "            <p>Liu Yueyang</p>\n",
    "        </div>\n",
    "        <div>\n",
    "            <img src=\"./title.png\" alt=\"alt text\" width=\"300\" style=\"opacity: 0.8;\"/>\n",
    "        </div>\n",
    "    </div>\n",
    "</div>"
   ]
  },
  {
   "cell_type": "markdown",
   "id": "161a67ea",
   "metadata": {
    "slideshow": {
     "slide_type": "slide"
    }
   },
   "source": [
    "# <center> Introduction\n",
    "    \n",
    "#### CNNs are deep learning algorithms for analyzing visual data, especially images\n",
    "    \n",
    "#### CNNs are designed to automatically learn spatial hierarchies of features from low-level edges to higher-level concepts through backpropagation"
   ]
  },
  {
   "cell_type": "markdown",
   "id": "ea5c3dcf",
   "metadata": {
    "slideshow": {
     "slide_type": "slide"
    }
   },
   "source": [
    "# <center> Introduction\n",
    "#### Advantages:\n",
    "- CNNs extracts Features directly from raw image pixels, hence no need to do manual feature engineering\n",
    "- CNNs retain Spatial Hierarchies, while processing feeded images\n",
    "- CNNs are more efficient due to Parameter Sharing\n",
    "- CNNs are Translation Invariance, that means they can recognise patterns or features from image pixels regarles of their position in the image\n",
    "    \n",
    "#### Some Disadvantages:\n",
    "- CNNs are Computational Complex, with large number of parameters and consume good hardware resources\n",
    "- CNNs require large labelled training data, to make correct predictions. \n"
   ]
  },
  {
   "cell_type": "markdown",
   "id": "7c8a5b29",
   "metadata": {
    "slideshow": {
     "slide_type": "slide"
    }
   },
   "source": [
    "# <center> Introduction\n",
    "\n",
    "#### Common Applications\n",
    "\n",
    "- Image Classification\n",
    "- Object Detection\n",
    "- Image Segmentation\n",
    "- Facial Recognition\n",
    "- Medical Image Analysis"
   ]
  },
  {
   "cell_type": "markdown",
   "id": "eb0eff8b",
   "metadata": {
    "slideshow": {
     "slide_type": "slide"
    }
   },
   "source": [
    "\n",
    "<img src=\"./Images/CNNLayers.png\" />"
   ]
  },
  {
   "cell_type": "markdown",
   "id": "80cb0102",
   "metadata": {
    "slideshow": {
     "slide_type": "slide"
    }
   },
   "source": [
    "# <center> Therory - Convolution Operation\n",
    "    \n",
    "- Features are extracted with convolutional operation\n",
    "- A convolutional layer has number of filters (each from a neuron) that does convolutional operations\n",
    "- A filter is a matrix of defined size, comprises of weights, which slide over the input images\n",
    "- Weights of a filter are learned automatically through training process on the input dataset\n",
    "- Output of Convolutional Layer is described as Convolutional Volume"
   ]
  },
  {
   "cell_type": "markdown",
   "id": "4cc7794f",
   "metadata": {
    "slideshow": {
     "slide_type": "slide"
    }
   },
   "source": [
    "<img src=\"./Images/6convolution.png\"/>"
   ]
  },
  {
   "cell_type": "markdown",
   "id": "a37c7a12",
   "metadata": {
    "slideshow": {
     "slide_type": "slide"
    }
   },
   "source": [
    "# <center>Therory - Activation Functions\n",
    "    \n",
    "- After the convolutional operation a non linear activation function is appliesd to extracted features\n",
    "- Most popular activation functions used for this purpose are\n",
    "    - Rectified Linear Unit (ReLU) \n",
    "    \n",
    "    <center>$\\sigma(z)=\\max(0, z)$</center>\n",
    "        \n",
    "    - Leaky ReLU\n",
    "    - Parametric ReLU\n",
    "    "
   ]
  },
  {
   "cell_type": "markdown",
   "id": "e7f8a7dd",
   "metadata": {
    "slideshow": {
     "slide_type": "slide"
    }
   },
   "source": [
    "# <center> Theroy - Pooling Operation\n",
    "    \n",
    "\n",
    "- Pooling is a downsampling operation to reduce the spatial dimentionality of feature maps\n",
    "- It helps to resude the computational complexity, and helps the program to focus more on dominant features\n",
    "- Pooling also enforces algorithm on spatial invariance\n",
    "- A patch of defined size stride over the feature map and generate output of reduced spatial dimentionality  \n",
    "- Types:\n",
    "    - Max Pooling: Takes the maximum value\n",
    "    - Average Pooling: Takes the average value\n",
    "    - Min Pooling: Takes the minimum value\n"
   ]
  },
  {
   "cell_type": "code",
   "execution_count": null,
   "id": "ab80df98",
   "metadata": {
    "slideshow": {
     "slide_type": "slide"
    }
   },
   "outputs": [],
   "source": []
  },
  {
   "cell_type": "code",
   "execution_count": null,
   "id": "9239289d",
   "metadata": {},
   "outputs": [],
   "source": []
  },
  {
   "cell_type": "markdown",
   "id": "ca0e29d7",
   "metadata": {
    "slideshow": {
     "slide_type": "slide"
    }
   },
   "source": [
    "# <center> Conclusion\n",
    "\n",
    "- CNN\n",
    "- Activaiton\n",
    "- Pooling operations helps in downsampling feature maps in CNNs\n",
    " "
   ]
  },
  {
   "cell_type": "markdown",
   "id": "55223cff",
   "metadata": {
    "slideshow": {
     "slide_type": "slide"
    }
   },
   "source": [
    "# <center> References\n",
    "    \n",
    "- https://mit6874.github.io/assets/sp2020/slides/L03_CNNs_MK2.pdf\n",
    "\n",
    "- https://training.galaxyproject.org/training-material/topics/statistics/tutorials/CNN/tutorial.html\n",
    "- https://medium.com/advanced-deep-learning/cnn-operation-with-2-kernels-resulting-in-2-feature-mapsunderstanding-the-convolutional-filter-c4aad26cf32#:~:text=In%20our%20case%2C%20the%20input,size%203x3%2C%20called%20feature%20maps."
   ]
  },
  {
   "cell_type": "markdown",
   "id": "053b8121",
   "metadata": {
    "slideshow": {
     "slide_type": "slide"
    }
   },
   "source": [
    "# <center> Therory - Convolution Operation\n",
    "\n",
    "### Hyper Parameters in Convolutional layer\n",
    "    \n",
    "- Number of Filters (or Kernels): Determines the depth of Convolutional Volume. Each filter learns to detect different features of input image data \n",
    "- Filter (Kernel) Size: Small filter size captures fine-grained details, while large filter size captrues broad patterns. Common filter sizer are 3x3, 5x5 and 7x7\n",
    "- Stride: Step size of filter\n",
    "- Padding: "
   ]
  }
 ],
 "metadata": {
  "celltoolbar": "Slideshow",
  "kernelspec": {
   "display_name": "Python 3 (ipykernel)",
   "language": "python",
   "name": "python3"
  },
  "language_info": {
   "codemirror_mode": {
    "name": "ipython",
    "version": 3
   },
   "file_extension": ".py",
   "mimetype": "text/x-python",
   "name": "python",
   "nbconvert_exporter": "python",
   "pygments_lexer": "ipython3",
   "version": "3.11.8"
  }
 },
 "nbformat": 4,
 "nbformat_minor": 5
}
