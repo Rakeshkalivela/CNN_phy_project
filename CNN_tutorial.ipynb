{
 "cells": [
  {
   "cell_type": "markdown",
   "id": "531d5bd1",
   "metadata": {
    "slideshow": {
     "slide_type": "slide"
    }
   },
   "source": [
    "\n",
    "<img src=\"./Images/coverslide.png\" />"
   ]
  },
  {
   "cell_type": "markdown",
   "id": "161a67ea",
   "metadata": {
    "slideshow": {
     "slide_type": "slide"
    }
   },
   "source": [
    "# <center> Introduction\n",
    "    \n",
    "- CNNs are deep learning algorithms for analyzing visual data, especially images\n",
    "    \n",
    "- CNNs are designed to learn spatial hierarchies of the features from the image pixels automatically through backpropagation"
   ]
  },
  {
   "cell_type": "markdown",
   "id": "ea5c3dcf",
   "metadata": {
    "slideshow": {
     "slide_type": "slide"
    }
   },
   "source": [
    "# <center> Introduction\n",
    "#### Advantages:\n",
    "- CNNs extracts Features directly from raw image pixels, hence no need to do manual feature engineering\n",
    "- CNNs retain Spatial Hierarchies, while processing feeded images\n",
    "- CNNs are more efficient due to Parameter Sharing\n",
    "- CNNs are Translation Invariance, that means they can recognise patterns or features from image pixels regardles of their position in the image\n",
    "    \n",
    "#### Some Disadvantages:\n",
    "- CNNs are Computational Complex, with large number of parameters and consume good hardware resources\n",
    "- CNNs require large labelled training data, to make correct predictions. \n"
   ]
  },
  {
   "cell_type": "markdown",
   "id": "7c8a5b29",
   "metadata": {
    "slideshow": {
     "slide_type": "slide"
    }
   },
   "source": [
    "# <center> Introduction\n",
    "\n",
    "#### Common Applications\n",
    "\n",
    "- Classification of images\n",
    "- Live object detection \n",
    "- Image segmentation\n",
    "- Facial recognition\n",
    "- Image Analysis in medical field"
   ]
  },
  {
   "cell_type": "markdown",
   "id": "eb0eff8b",
   "metadata": {
    "slideshow": {
     "slide_type": "slide"
    }
   },
   "source": [
    "\n",
    "<img src=\"./Images/CNNLayers.png\" />"
   ]
  },
  {
   "cell_type": "markdown",
   "id": "80cb0102",
   "metadata": {
    "slideshow": {
     "slide_type": "slide"
    }
   },
   "source": [
    "# <center> Therory - Convolution Operation\n",
    "    \n",
    "- Features are extracted with convolutional operation\n",
    "- A convolutional layer has number of filters (each from a neuron) that does convolutional operations\n",
    "- A filter is a matrix of defined size, comprises of weights, which slide over the input images\n",
    "- Weights of a filter are learned automatically through training process on the input dataset\n",
    "- Output of Convolutional Layer is described as Convolutional Volume"
   ]
  },
  {
   "cell_type": "markdown",
   "id": "4cc7794f",
   "metadata": {
    "slideshow": {
     "slide_type": "slide"
    }
   },
   "source": [
    "<img src=\"./Images/6convolution.png\"/>"
   ]
  },
  {
   "cell_type": "markdown",
   "id": "a37c7a12",
   "metadata": {
    "slideshow": {
     "slide_type": "slide"
    }
   },
   "source": [
    "# <center>Therory - Activation Functions\n",
    "    \n",
    "- After the convolutional operation to introduce non linearity, a non linear activation function is appliesd to extracted features\n",
    "- Most popular activation functions used for this purpose are\n",
    "    - Rectified Linear Unit (ReLU) \n",
    "    \n",
    "    <center>$\\sigma(z)=\\max(0, z)$</center>\n",
    "        \n",
    "    - Leaky ReLU\n",
    "    - Parametric ReLU\n",
    "    \n",
    "\n",
    "Code:    \n",
    "```python\n",
    "layers.Conv2D(filters=32, kernal_size=(3, 3), activation='relu')\n",
    "```"
   ]
  },
  {
   "cell_type": "markdown",
   "id": "e7f8a7dd",
   "metadata": {
    "slideshow": {
     "slide_type": "slide"
    }
   },
   "source": [
    "# <center> Theroy - Pooling Operation\n",
    "    \n",
    "\n",
    "- Pooling is a downsampling operation to reduce the spatial dimentionality of feature maps\n",
    "- It helps to resude the computational complexity, and helps the program to focus more on dominant features\n",
    "- Pooling also enforces algorithm on spatial invariance\n",
    "- A patch of defined size stride over the feature map and generate output of reduced spatial dimentionality  \n",
    "- Types:\n",
    "    - Max Pooling: Takes the maximum value\n",
    "    - Average Pooling: Takes the average value\n",
    "    - Min Pooling: Takes the minimum value\n"
   ]
  },
  {
   "cell_type": "markdown",
   "id": "0a1e7d49",
   "metadata": {
    "slideshow": {
     "slide_type": "slide"
    }
   },
   "source": [
    "<img src=\"./Images/Pooling-operation.png\" width=\"700\" />"
   ]
  },
  {
   "cell_type": "markdown",
   "id": "4671e149",
   "metadata": {},
   "source": [
    "# <center> Fully Connected/Dense Layers\n",
    "    \n",
    "- 2D data generated after Convolutional and Pooling operations, is converted into 1D data. This process is called flattenning \n",
    "```python\n",
    "layers.Flatten()\n",
    "```\n",
    "- The flatten data is fead to Dense Layers network\n",
    "```python\n",
    "layers.Dense(units=64, activation='relu')\n",
    "```\n",
    "- In fully connected layers, every neuron is connected to every neurons of the another (adjacent) layers."
   ]
  },
  {
   "cell_type": "markdown",
   "id": "63f447ab",
   "metadata": {
    "slideshow": {
     "slide_type": "slide"
    }
   },
   "source": [
    "# Implementation of Convolutional Neural Networks (CNN)\n",
    "\n",
    "### 1. Prepare and Load the data:\n",
    "\n",
    "* Input shape(eg. width, heighth, the number of channels(RGB))\n",
    "* Split data into training, validation, and test datasets.\n",
    "\n",
    "### 2. Define Model Architecture:\n",
    "\n",
    "* Decide on the number and type of layers [convolutional(feature), pooling(dimensionality reduction), fully connected(output)].\n",
    "* Specify activation functions [ReLU(non-linearity), sigmoid, etc.].\n",
    "* Determine other hyperparameters like COV(kernel size, stride, padding), pooling(pool_size,stride),FC(activation) etc.\n",
    "\n",
    "### 3. Compile the Model:\n",
    "* Define the optimizer (e.g.Adam) and learning rate(minimize the loss function).\n",
    "\n",
    "### 4. Train the Model:\n",
    "\n",
    "* Feed data batches to the model.\n",
    "* Monitor the training progress with validation data.\n",
    "\n",
    "### 5. Evaluate the Model:\n",
    "\n",
    "* Use test data to assess model accuracy and other metrics."
   ]
  },
  {
   "cell_type": "markdown",
   "id": "34a002d7",
   "metadata": {
    "slideshow": {
     "slide_type": "slide"
    }
   },
   "source": [
    "# Advantages and Disadvantages of CNN\n",
    "\n",
    "## Advantages\n",
    "1.Parameter Sharing:\n",
    "* Convolutional layers reuse weights across different spatial locations.\n",
    "\n",
    "2.Local Receptive Fields:\n",
    "* Each neuron only processes a local region of the input, allowing efficient spatial feature extraction.\n",
    "\n",
    "3.Translation Invariance:\n",
    "* Pooling layers provide robustness to small spatial translations in the input.\n",
    "\n",
    "4.Deep Representations:\n",
    "* Hierarchical feature extraction enables recognition of complex patterns.\n",
    "\n",
    "5.Scalability:\n",
    "* Capable of handling high-dimensional data like images, video, and audio."
   ]
  },
  {
   "cell_type": "markdown",
   "id": "e15660ff",
   "metadata": {
    "slideshow": {
     "slide_type": "slide"
    }
   },
   "source": [
    "## Disadvantages\n",
    "1.Large Data Requirements:\n",
    "* CNNs need large datasets for effective training, often requiring data augmentation.\n",
    "\n",
    "2.Computational Cost:\n",
    "* High memory and computational requirements, particularly with deep architectures.\n",
    "\n",
    "3.Lack of Spatial Understanding:\n",
    "* Cannot inherently learn spatial relationships without specific architectural modifications.\n",
    "\n",
    "4.Overfitting:\n",
    "* Prone to overfitting if data augmentation or regularization is not used."
   ]
  },
  {
   "cell_type": "markdown",
   "id": "20fad394",
   "metadata": {
    "slideshow": {
     "slide_type": "slide"
    }
   },
   "source": [
    "<div align=\"center\">\n",
    "    \n",
    "# Example for CNN Model\n",
    "\n",
    "</div>\n",
    "\n",
    "## MNIST Data (Modified National Institute of Standards and Technology database):\n",
    "\n",
    "It is a large database of handwritten digits, commonly used for training various image processing systems. It has 60,000 training images and 10,000 testing images."
   ]
  },
  {
   "cell_type": "code",
   "execution_count": 1,
   "id": "426db69a",
   "metadata": {
    "slideshow": {
     "slide_type": "slide"
    }
   },
   "outputs": [],
   "source": [
    "import numpy as np\n",
    "import tensorflow as tf\n",
    "import matplotlib.pyplot as plt\n",
    "from tensorflow.keras.models import Sequential\n",
    "from tensorflow.keras import datasets\n",
    "from tensorflow.keras.layers import Conv2D, MaxPooling2D, Flatten, Dense, Dropout, BatchNormalization\n",
    "from tensorflow.keras.preprocessing.image import ImageDataGenerator"
   ]
  },
  {
   "cell_type": "code",
   "execution_count": 2,
   "id": "5fd8808d",
   "metadata": {
    "slideshow": {
     "slide_type": "slide"
    }
   },
   "outputs": [],
   "source": [
    "# Loading the dataset\n",
    "(x_train, y_train), (x_test, y_test)  = datasets.mnist.load_data()\n",
    "\n",
    "# Reshaping our MNIST dataset\n",
    "x_train = x_train.reshape((x_train.shape[0], 28, 28, 1))\n",
    "x_test = x_test.reshape((x_test.shape[0], 28, 28, 1))"
   ]
  },
  {
   "cell_type": "code",
   "execution_count": 3,
   "id": "8f5ff565",
   "metadata": {
    "slideshow": {
     "slide_type": "slide"
    }
   },
   "outputs": [
    {
     "data": {
      "image/png": "[encoded data removed]",
      "text/plain": [
       "<Figure size 640x480 with 5 Axes>"
      ]
     },
     "metadata": {},
     "output_type": "display_data"
    }
   ],
   "source": [
    "# printing the first 5 images\n",
    "for i in range(5):\n",
    "    plt.subplot( 1, 5, i + 1)\n",
    "    plt.xticks([])\n",
    "    plt.yticks([])\n",
    "    plt.grid(False)\n",
    "    plt.imshow(x_train[i], cmap='gray')\n",
    "    plt.xlabel(y_train[i])\n",
    "plt.show()"
   ]
  },
  {
   "cell_type": "code",
   "execution_count": 4,
   "id": "fe288f84",
   "metadata": {
    "slideshow": {
     "slide_type": "slide"
    }
   },
   "outputs": [],
   "source": [
    "# Normalizing the pixel values(0-255) to binary(0 AND 1)\n",
    "x_train = x_train.astype('float32') / 255.0\n",
    "x_test = x_test.astype('float32') / 255.0"
   ]
  },
  {
   "cell_type": "code",
   "execution_count": 5,
   "id": "c309f687",
   "metadata": {
    "slideshow": {
     "slide_type": "slide"
    }
   },
   "outputs": [
    {
     "name": "stdout",
     "output_type": "stream",
     "text": [
      "x_train shape: (60000, 28, 28, 1)\n",
      "y_train shape: (60000,)\n",
      "x_test shape: (10000, 28, 28, 1)\n",
      "y_test shape: (10000,)\n"
     ]
    }
   ],
   "source": [
    "# below code is to print the shape of the data\n",
    "print(\"x_train shape:\", x_train.shape)\n",
    "print(\"y_train shape:\", y_train.shape)\n",
    "print(\"x_test shape:\", x_test.shape)\n",
    "print(\"y_test shape:\", y_test.shape)"
   ]
  },
  {
   "cell_type": "code",
   "execution_count": 6,
   "id": "efb4e702",
   "metadata": {
    "slideshow": {
     "slide_type": "slide"
    }
   },
   "outputs": [
    {
     "name": "stderr",
     "output_type": "stream",
     "text": [
      "2024-05-08 22:44:02.440674: I metal_plugin/src/device/metal_device.cc:1154] Metal device set to: Apple M2\n",
      "2024-05-08 22:44:02.440693: I metal_plugin/src/device/metal_device.cc:296] systemMemory: 8.00 GB\n",
      "2024-05-08 22:44:02.440698: I metal_plugin/src/device/metal_device.cc:313] maxCacheSize: 2.67 GB\n",
      "2024-05-08 22:44:02.440921: I tensorflow/core/common_runtime/pluggable_device/pluggable_device_factory.cc:306] Could not identify NUMA node of platform GPU ID 0, defaulting to 0. Your kernel may not have been built with NUMA support.\n",
      "2024-05-08 22:44:02.440940: I tensorflow/core/common_runtime/pluggable_device/pluggable_device_factory.cc:272] Created TensorFlow device (/job:localhost/replica:0/task:0/device:GPU:0 with 0 MB memory) -> physical PluggableDevice (device: 0, name: METAL, pci bus id: <undefined>)\n"
     ]
    }
   ],
   "source": [
    "# Building a NEW model\n",
    "\n",
    "CNN_model = Sequential()\n",
    "CNN_model.add(Conv2D(64, (3, 3), activation='relu', input_shape=(28, 28, 1)))\n",
    "CNN_model.add(MaxPooling2D((2, 2)))\n",
    "CNN_model.add(Conv2D(128, (3, 3), activation='relu'))\n",
    "CNN_model.add(MaxPooling2D((2, 2)))\n",
    "CNN_model.add(Conv2D(128, (3, 3), activation='relu'))\n",
    "CNN_model.add(Flatten())\n",
    "CNN_model.add(Dropout(0.5))  \n",
    "CNN_model.add(Dense(128, activation='relu'))\n",
    "CNN_model.add(Dense(10, activation='softmax'))"
   ]
  },
  {
   "cell_type": "code",
   "execution_count": 7,
   "id": "6ee3033c",
   "metadata": {
    "slideshow": {
     "slide_type": "slide"
    }
   },
   "outputs": [],
   "source": [
    "# Compiling the created model with adam optimizer\n",
    "CNN_model.compile(optimizer='adam',\n",
    "              loss='sparse_categorical_crossentropy',\n",
    "              metrics=['accuracy'])"
   ]
  },
  {
   "cell_type": "code",
   "execution_count": 8,
   "id": "88f1b94e",
   "metadata": {
    "slideshow": {
     "slide_type": "skip"
    }
   },
   "outputs": [
    {
     "name": "stdout",
     "output_type": "stream",
     "text": [
      "Model: \"sequential\"\n",
      "_________________________________________________________________\n",
      " Layer (type)                Output Shape              Param #   \n",
      "=================================================================\n",
      " conv2d (Conv2D)             (None, 26, 26, 64)        640       \n",
      "                                                                 \n",
      " max_pooling2d (MaxPooling2  (None, 13, 13, 64)        0         \n",
      " D)                                                              \n",
      "                                                                 \n",
      " conv2d_1 (Conv2D)           (None, 11, 11, 128)       73856     \n",
      "                                                                 \n",
      " max_pooling2d_1 (MaxPoolin  (None, 5, 5, 128)         0         \n",
      " g2D)                                                            \n",
      "                                                                 \n",
      " conv2d_2 (Conv2D)           (None, 3, 3, 128)         147584    \n",
      "                                                                 \n",
      " flatten (Flatten)           (None, 1152)              0         \n",
      "                                                                 \n",
      " dropout (Dropout)           (None, 1152)              0         \n",
      "                                                                 \n",
      " dense (Dense)               (None, 128)               147584    \n",
      "                                                                 \n",
      " dense_1 (Dense)             (None, 10)                1290      \n",
      "                                                                 \n",
      "=================================================================\n",
      "Total params: 370954 (1.42 MB)\n",
      "Trainable params: 370954 (1.42 MB)\n",
      "Non-trainable params: 0 (0.00 Byte)\n",
      "_________________________________________________________________\n"
     ]
    }
   ],
   "source": [
    "# summary of the model\n",
    "CNN_model.summary()"
   ]
  },
  {
   "cell_type": "code",
   "execution_count": 9,
   "id": "81d01a96",
   "metadata": {
    "scrolled": true,
    "slideshow": {
     "slide_type": "slide"
    }
   },
   "outputs": [
    {
     "name": "stdout",
     "output_type": "stream",
     "text": [
      "Epoch 1/15\n"
     ]
    },
    {
     "name": "stderr",
     "output_type": "stream",
     "text": [
      "2024-05-08 22:44:03.129326: I tensorflow/core/grappler/optimizers/custom_graph_optimizer_registry.cc:117] Plugin optimizer for device_type GPU is enabled.\n"
     ]
    },
    {
     "name": "stdout",
     "output_type": "stream",
     "text": [
      "1688/1688 [==============================] - 14s 8ms/step - loss: 0.1668 - accuracy: 0.9476 - val_loss: 0.0385 - val_accuracy: 0.9895\n",
      "Epoch 2/15\n",
      "1688/1688 [==============================] - 13s 8ms/step - loss: 0.0611 - accuracy: 0.9808 - val_loss: 0.0465 - val_accuracy: 0.9873\n",
      "Epoch 3/15\n",
      "1688/1688 [==============================] - 11s 7ms/step - loss: 0.0498 - accuracy: 0.9850 - val_loss: 0.0437 - val_accuracy: 0.9868\n",
      "Epoch 4/15\n",
      "1688/1688 [==============================] - 11s 7ms/step - loss: 0.0444 - accuracy: 0.9871 - val_loss: 0.0370 - val_accuracy: 0.9897\n",
      "Epoch 5/15\n",
      "1688/1688 [==============================] - 11s 7ms/step - loss: 0.0407 - accuracy: 0.9884 - val_loss: 0.0312 - val_accuracy: 0.9913\n",
      "Epoch 6/15\n",
      "1688/1688 [==============================] - 11s 7ms/step - loss: 0.0388 - accuracy: 0.9893 - val_loss: 0.0437 - val_accuracy: 0.9900\n",
      "Epoch 7/15\n",
      "1688/1688 [==============================] - 15s 9ms/step - loss: 0.0438 - accuracy: 0.9894 - val_loss: 0.0530 - val_accuracy: 0.9907\n",
      "Epoch 8/15\n",
      "1688/1688 [==============================] - 15s 9ms/step - loss: 0.0511 - accuracy: 0.9893 - val_loss: 0.0592 - val_accuracy: 0.9910\n",
      "Epoch 9/15\n",
      "1688/1688 [==============================] - 13s 7ms/step - loss: 0.0505 - accuracy: 0.9909 - val_loss: 0.0677 - val_accuracy: 0.9907\n",
      "Epoch 10/15\n",
      "1688/1688 [==============================] - 12s 7ms/step - loss: 0.0824 - accuracy: 0.9896 - val_loss: 0.0871 - val_accuracy: 0.9917\n",
      "Epoch 11/15\n",
      "1688/1688 [==============================] - 11s 7ms/step - loss: 0.0954 - accuracy: 0.9898 - val_loss: 0.1561 - val_accuracy: 0.9900\n",
      "Epoch 12/15\n",
      "1688/1688 [==============================] - 11s 7ms/step - loss: 0.0912 - accuracy: 0.9916 - val_loss: 0.1974 - val_accuracy: 0.9900\n",
      "Epoch 13/15\n",
      "1688/1688 [==============================] - 12s 7ms/step - loss: 0.1686 - accuracy: 0.9897 - val_loss: 0.1993 - val_accuracy: 0.9902\n",
      "Epoch 14/15\n",
      "1688/1688 [==============================] - 11s 7ms/step - loss: 0.1579 - accuracy: 0.9919 - val_loss: 0.3551 - val_accuracy: 0.9900\n",
      "Epoch 15/15\n",
      "1688/1688 [==============================] - 12s 7ms/step - loss: 0.1730 - accuracy: 0.9923 - val_loss: 0.2733 - val_accuracy: 0.9923\n"
     ]
    }
   ],
   "source": [
    "# Training the model with validation slpit 10%\n",
    "CNN_history = CNN_model.fit(x_train, y_train, epochs=15, validation_split=0.1)"
   ]
  },
  {
   "cell_type": "code",
   "execution_count": 10,
   "id": "2667e2d8",
   "metadata": {},
   "outputs": [
    {
     "name": "stdout",
     "output_type": "stream",
     "text": [
      "Test Loss: 0.2494845986366272\n",
      "Test Accuracy: 0.9919999837875366\n"
     ]
    }
   ],
   "source": [
    "#  Finally we are evaluating the model and printing the accuracy and loss\n",
    "test_loss, test_acc = CNN_model.evaluate(x_test, y_test, verbose=0)\n",
    "print('Test Loss:', test_loss)\n",
    "print('Test Accuracy:', test_acc)"
   ]
  },
  {
   "cell_type": "code",
   "execution_count": 11,
   "id": "1e9f0074",
   "metadata": {},
   "outputs": [
    {
     "name": "stdout",
     "output_type": "stream",
     "text": [
      "313/313 [==============================] - 1s 3ms/step\n"
     ]
    }
   ],
   "source": [
    "# after evaluating the model,we are going to predicting the values from the test dataset\n",
    "y_predict = CNN_model.predict(x_test)\n",
    "y_predict_classes = np.argmax(y_predict, axis=1)"
   ]
  },
  {
   "cell_type": "code",
   "execution_count": 12,
   "id": "ffaaed26",
   "metadata": {},
   "outputs": [
    {
     "data": {
      "image/png": "[encoded data removed]",
      "text/plain": [
       "<Figure size 600x500 with 2 Axes>"
      ]
     },
     "metadata": {},
     "output_type": "display_data"
    }
   ],
   "source": [
    "from sklearn.metrics import confusion_matrix\n",
    "import seaborn as sns\n",
    "\n",
    "# checking the prediction with confusion matrix\n",
    "confusion_mat = confusion_matrix(y_test, y_predict_classes)\n",
    "\n",
    "# Plotting confusion matrix with heatmap\n",
    "plt.figure(figsize=(6, 5))\n",
    "sns.heatmap(confusion_mat, annot=True, fmt='g', cmap='Greens')\n",
    "plt.xlabel('Actual')\n",
    "plt.ylabel('prediction')\n",
    "plt.title('Confusion Matrix for MNIST dataset')\n",
    "plt.show()"
   ]
  },
  {
   "cell_type": "code",
   "execution_count": 13,
   "id": "2c57ba35",
   "metadata": {},
   "outputs": [
    {
     "data": {
      "image/png": "[encoded data removed]",
      "text/plain": [
       "<Figure size 1000x500 with 1 Axes>"
      ]
     },
     "metadata": {},
     "output_type": "display_data"
    }
   ],
   "source": [
    "# Plotting the training & validation accuracy values\n",
    "plt.figure(figsize=(10, 5))\n",
    "plt.subplot(1, 2, 1)\n",
    "plt.plot(CNN_history.history['accuracy'])\n",
    "plt.plot(CNN_history.history['val_accuracy'])\n",
    "plt.title('CNN_Model Accuracy')\n",
    "plt.ylabel('Accuracy')\n",
    "plt.xlabel('Epochs')\n",
    "plt.legend(['Train', 'Test'], loc='upper right')\n",
    "plt.show()"
   ]
  },
  {
   "cell_type": "code",
   "execution_count": 14,
   "id": "54637981",
   "metadata": {},
   "outputs": [
    {
     "data": {
      "image/png": "[encoded data removed]",
      "text/plain": [
       "<Figure size 1000x500 with 1 Axes>"
      ]
     },
     "metadata": {},
     "output_type": "display_data"
    }
   ],
   "source": [
    "# Plotting the training & validation loss values\n",
    "plt.figure(figsize=(10, 5))\n",
    "plt.subplot(1, 2, 1)\n",
    "plt.plot(CNN_history.history['loss'])\n",
    "plt.plot(CNN_history.history['val_loss'])\n",
    "plt.title('CNN_Model Loss')\n",
    "plt.ylabel('Loss')\n",
    "plt.xlabel('Epochs')\n",
    "plt.legend(['Train', 'Test'], loc='upper right')\n",
    "plt.show()"
   ]
  },
  {
   "cell_type": "markdown",
   "id": "c1ab03ae",
   "metadata": {},
   "source": [
    "# Tips and Tricks\n",
    "\n",
    "\n",
    "## Best Practices:\n",
    "\n",
    "1.**Batch normalization:** It can speed up training and has slight regularization effect.\n",
    "\n",
    "2.**Data agumentation:** By using Data augmentation the dataset will expand artificially by applying tranformations like rotation, flipping etc. this helps to generalize the model better by learning from more varied set of data.\n",
    "\n",
    "## Common Pitfalls to Avoid:\n",
    "\n",
    "1 dropout layers and data augmentation helps to avoid overfitting, and underfitting by increasing complexity of model.\n",
    "\n",
    "2.normalizing the data, tuning the hyperparameters and use a validation set to ensure the generalizability and performance of the model.\n",
    "\n",
    "## Optimization Techniques:\n",
    "\n",
    "1.Adaptive learning rate methods like Adam for faster convergence. \n",
    "\n",
    "2.Hyperparameter tuning via grid or random search to optimizing the performance of model.\n",
    "\n",
    "3.Implement the early stopping methods to prevent overfitting."
   ]
  },
  {
   "cell_type": "markdown",
   "id": "ca0e29d7",
   "metadata": {
    "slideshow": {
     "slide_type": "slide"
    }
   },
   "source": [
    "# <center> Conclusion\n",
    "\n",
    "- The convolutional layers are responsible for learning local features of the input\n",
    "- The pooling layers take these features and downsample them, reducing the computational complexity for the network and adding a level of translational invariance\n",
    "- the fully connected layers take the condensed, high-level features and use them to make a final prediction\n",
    "    \n",
    "\n",
    "\n",
    " "
   ]
  },
  {
   "cell_type": "markdown",
   "id": "b99fb682",
   "metadata": {
    "slideshow": {
     "slide_type": "slide"
    }
   },
   "source": [
    "## Advantages of CNN over other similar algorithms\n",
    "### Fully Connected Neural Networks (FCNN):\n",
    "#### Pros:\n",
    "- Efficient at automatic feature extraction\n",
    "- Preserves spatial heirarchical information\n",
    "- Has the capacity of handling spatial invariance\n",
    "- Memory efficient compared to FCNN\n",
    "#### Cons:\n",
    "- More complex in implimenting compared to FCNN\n",
    "- Not as effects as FCNN in handling sequential data such as timeseries\n",
    "\n",
    "###  Recurrent Neural Networks (RNNs):\n",
    "#### Pros:\n",
    "- CNNs are effective with spatial data like images\n",
    "- CNNs are better handling spatial invariance and preserving heirarchical information\n",
    "- - Memory efficient compared to RNN\n",
    "#### Cons:\n",
    "- RNNs are more effective for sequential data like text and speech\n",
    "\n"
   ]
  },
  {
   "cell_type": "markdown",
   "id": "55223cff",
   "metadata": {
    "slideshow": {
     "slide_type": "slide"
    }
   },
   "source": [
    "# <center> References\n",
    "    \n",
    "- Deep Learning lecture slides by Dr. Conor D. Rankine, University of York\n",
    "- CNN Lecture slides by Prof. Manolis Kellis, MIT https://mit6874.github.io/assets/sp2020/slides/L03_CNNs_MK2.pdf\n",
    "\n",
    "- Deep Learning(CNN) https://training.galaxyproject.org/training-material/topics/statistics/tutorials/CNN/tutorial.html\n",
    "- Understanding CNN filters (Medium): https://medium.com/advanced-deep-learning/cnn-operation-with-2-kernels-resulting-in-2-feature-mapsunderstanding-the-convolutional-filter-c4aad26cf32#:~:text=In%20our%20case%2C%20the%20input,size%203x3%2C%20called%20feature%20maps.\n",
    "- Pooling operation image: https://www.researchgate.net/figure/Pooling-operation_fig2_373479024\n",
    "- CNN Lessons (Medium): https://medium.com/@nerdjock\n",
    "- MIT 6.S191 (2023): Convolutional Neural Networks - https://www.youtube.com/watch?v=NmLK_WQBxB4\n",
    "- An Introduction to Convolutional Neural Networks - https://arxiv.org/abs/1511.08458\n",
    "- Recent advances in convolutional neural networks - https://www.sciencedirect.com/science/article/pii/S0031320317304120?casa_token=Ma0YG4UAKPYAAAAA:gkm9yAj2DigREz8ryuSxaIowlNZxwGvlareGrUwlE2MssKiPRzQxt4DlHT8OmXG7ay-VS-8KXw    \n",
    "- MNIST dataset: http://yann.lecun.com/exdb/mnist/   "
   ]
  }
 ],
 "metadata": {
  "celltoolbar": "Slideshow",
  "kernelspec": {
   "display_name": "Python 3 (ipykernel)",
   "language": "python",
   "name": "python3"
  },
  "language_info": {
   "codemirror_mode": {
    "name": "ipython",
    "version": 3
   },
   "file_extension": ".py",
   "mimetype": "text/x-python",
   "name": "python",
   "nbconvert_exporter": "python",
   "pygments_lexer": "ipython3",
   "version": "3.11.8"
  }
 },
 "nbformat": 4,
 "nbformat_minor": 5
}
