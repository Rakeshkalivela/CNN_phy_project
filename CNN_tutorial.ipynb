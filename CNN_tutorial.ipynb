{
 "cells": [
  {
   "cell_type": "markdown",
   "id": "531d5bd1",
   "metadata": {},
   "source": [
    "# <center> Convolutional Neural Networks (CNN)\n",
    "***\n",
    "\n",
    "### A Tutorial by\n",
    "Rakesh Kalivela    \n",
    "Rajesh Kathiresan    \n",
    "Liu Yueyang\n"
   ]
  },
  {
   "cell_type": "markdown",
   "id": "161a67ea",
   "metadata": {},
   "source": [
    "# <center> Introduction\n",
    "    \n",
    "#### CNNs are deep learning algorithms for analyzing visual data, especially images"
   ]
  },
  {
   "cell_type": "markdown",
   "id": "ea5c3dcf",
   "metadata": {},
   "source": [
    "# <center> Introduction\n",
    "#### Advantages:\n",
    "- Feature Learning\n",
    "- Spatial Hierarchies\n",
    "- Parameter Sharing\n",
    "- Translation Invariance\n",
    "    \n",
    "#### Disadvantages:\n",
    "- Computational Complexity\n",
    "- Data Requirements\n",
    "- Interpretability"
   ]
  },
  {
   "cell_type": "markdown",
   "id": "7c8a5b29",
   "metadata": {},
   "source": [
    "# <center> Introduction\n",
    "\n",
    "#### Common Applications\n",
    "\n",
    "- Image Classification\n",
    "- Object Detection\n",
    "- Image Segmentation\n",
    "- Facial Recognition\n",
    "- Medical Image Analysis"
   ]
  },
  {
   "cell_type": "markdown",
   "id": "25da5adf",
   "metadata": {},
   "source": [
    "# <center> Theory"
   ]
  },
  {
   "cell_type": "code",
   "execution_count": null,
   "id": "b3c03587",
   "metadata": {},
   "outputs": [],
   "source": []
  },
  {
   "cell_type": "markdown",
   "id": "ca0e29d7",
   "metadata": {},
   "source": [
    "# <center> Example"
   ]
  }
 ],
 "metadata": {
  "celltoolbar": "Slideshow",
  "kernelspec": {
   "display_name": "Python 3 (ipykernel)",
   "language": "python",
   "name": "python3"
  },
  "language_info": {
   "codemirror_mode": {
    "name": "ipython",
    "version": 3
   },
   "file_extension": ".py",
   "mimetype": "text/x-python",
   "name": "python",
   "nbconvert_exporter": "python",
   "pygments_lexer": "ipython3",
   "version": "3.11.5"
  }
 },
 "nbformat": 4,
 "nbformat_minor": 5
}
